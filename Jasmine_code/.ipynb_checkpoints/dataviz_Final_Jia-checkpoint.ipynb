{
 "cells": [
  {
   "cell_type": "code",
   "execution_count": 1,
   "metadata": {
    "colab": {
     "base_uri": "https://localhost:8080/",
     "height": 610
    },
    "id": "N4fN32fwDx3Y",
    "outputId": "a3bd48de-6650-4d96-8178-2452a173b500"
   },
   "outputs": [
    {
     "ename": "FileNotFoundError",
     "evalue": "[Errno 2] No such file or directory: 'covid-cases.csv'",
     "output_type": "error",
     "traceback": [
      "\u001b[0;31m---------------------------------------------------------------------------\u001b[0m",
      "\u001b[0;31mFileNotFoundError\u001b[0m                         Traceback (most recent call last)",
      "Cell \u001b[0;32mIn[1], line 5\u001b[0m\n\u001b[1;32m      2\u001b[0m \u001b[38;5;28;01mimport\u001b[39;00m \u001b[38;5;21;01maltair\u001b[39;00m \u001b[38;5;28;01mas\u001b[39;00m \u001b[38;5;21;01malt\u001b[39;00m\n\u001b[1;32m      4\u001b[0m election_data \u001b[38;5;241m=\u001b[39m pd\u001b[38;5;241m.\u001b[39mread_csv(\u001b[38;5;124m'\u001b[39m\u001b[38;5;124mus_election_2020.csv\u001b[39m\u001b[38;5;124m'\u001b[39m)\n\u001b[0;32m----> 5\u001b[0m covid_data \u001b[38;5;241m=\u001b[39m pd\u001b[38;5;241m.\u001b[39mread_csv(\u001b[38;5;124m'\u001b[39m\u001b[38;5;124mcovid-cases.csv\u001b[39m\u001b[38;5;124m'\u001b[39m)\n\u001b[1;32m      7\u001b[0m \u001b[38;5;66;03m# Convert the date column to datetime format\u001b[39;00m\n\u001b[1;32m      8\u001b[0m covid_data[\u001b[38;5;124m'\u001b[39m\u001b[38;5;124mdate\u001b[39m\u001b[38;5;124m'\u001b[39m] \u001b[38;5;241m=\u001b[39m pd\u001b[38;5;241m.\u001b[39mto_datetime(covid_data[\u001b[38;5;124m'\u001b[39m\u001b[38;5;124mdate\u001b[39m\u001b[38;5;124m'\u001b[39m], \u001b[38;5;28mformat\u001b[39m\u001b[38;5;241m=\u001b[39m\u001b[38;5;124m'\u001b[39m\u001b[38;5;124m%\u001b[39m\u001b[38;5;124mm/\u001b[39m\u001b[38;5;132;01m%d\u001b[39;00m\u001b[38;5;124m/\u001b[39m\u001b[38;5;124m%\u001b[39m\u001b[38;5;124mY\u001b[39m\u001b[38;5;124m'\u001b[39m)\n",
      "File \u001b[0;32m~/anaconda3/lib/python3.11/site-packages/pandas/io/parsers/readers.py:912\u001b[0m, in \u001b[0;36mread_csv\u001b[0;34m(filepath_or_buffer, sep, delimiter, header, names, index_col, usecols, dtype, engine, converters, true_values, false_values, skipinitialspace, skiprows, skipfooter, nrows, na_values, keep_default_na, na_filter, verbose, skip_blank_lines, parse_dates, infer_datetime_format, keep_date_col, date_parser, date_format, dayfirst, cache_dates, iterator, chunksize, compression, thousands, decimal, lineterminator, quotechar, quoting, doublequote, escapechar, comment, encoding, encoding_errors, dialect, on_bad_lines, delim_whitespace, low_memory, memory_map, float_precision, storage_options, dtype_backend)\u001b[0m\n\u001b[1;32m    899\u001b[0m kwds_defaults \u001b[38;5;241m=\u001b[39m _refine_defaults_read(\n\u001b[1;32m    900\u001b[0m     dialect,\n\u001b[1;32m    901\u001b[0m     delimiter,\n\u001b[0;32m   (...)\u001b[0m\n\u001b[1;32m    908\u001b[0m     dtype_backend\u001b[38;5;241m=\u001b[39mdtype_backend,\n\u001b[1;32m    909\u001b[0m )\n\u001b[1;32m    910\u001b[0m kwds\u001b[38;5;241m.\u001b[39mupdate(kwds_defaults)\n\u001b[0;32m--> 912\u001b[0m \u001b[38;5;28;01mreturn\u001b[39;00m _read(filepath_or_buffer, kwds)\n",
      "File \u001b[0;32m~/anaconda3/lib/python3.11/site-packages/pandas/io/parsers/readers.py:577\u001b[0m, in \u001b[0;36m_read\u001b[0;34m(filepath_or_buffer, kwds)\u001b[0m\n\u001b[1;32m    574\u001b[0m _validate_names(kwds\u001b[38;5;241m.\u001b[39mget(\u001b[38;5;124m\"\u001b[39m\u001b[38;5;124mnames\u001b[39m\u001b[38;5;124m\"\u001b[39m, \u001b[38;5;28;01mNone\u001b[39;00m))\n\u001b[1;32m    576\u001b[0m \u001b[38;5;66;03m# Create the parser.\u001b[39;00m\n\u001b[0;32m--> 577\u001b[0m parser \u001b[38;5;241m=\u001b[39m TextFileReader(filepath_or_buffer, \u001b[38;5;241m*\u001b[39m\u001b[38;5;241m*\u001b[39mkwds)\n\u001b[1;32m    579\u001b[0m \u001b[38;5;28;01mif\u001b[39;00m chunksize \u001b[38;5;129;01mor\u001b[39;00m iterator:\n\u001b[1;32m    580\u001b[0m     \u001b[38;5;28;01mreturn\u001b[39;00m parser\n",
      "File \u001b[0;32m~/anaconda3/lib/python3.11/site-packages/pandas/io/parsers/readers.py:1407\u001b[0m, in \u001b[0;36mTextFileReader.__init__\u001b[0;34m(self, f, engine, **kwds)\u001b[0m\n\u001b[1;32m   1404\u001b[0m     \u001b[38;5;28mself\u001b[39m\u001b[38;5;241m.\u001b[39moptions[\u001b[38;5;124m\"\u001b[39m\u001b[38;5;124mhas_index_names\u001b[39m\u001b[38;5;124m\"\u001b[39m] \u001b[38;5;241m=\u001b[39m kwds[\u001b[38;5;124m\"\u001b[39m\u001b[38;5;124mhas_index_names\u001b[39m\u001b[38;5;124m\"\u001b[39m]\n\u001b[1;32m   1406\u001b[0m \u001b[38;5;28mself\u001b[39m\u001b[38;5;241m.\u001b[39mhandles: IOHandles \u001b[38;5;241m|\u001b[39m \u001b[38;5;28;01mNone\u001b[39;00m \u001b[38;5;241m=\u001b[39m \u001b[38;5;28;01mNone\u001b[39;00m\n\u001b[0;32m-> 1407\u001b[0m \u001b[38;5;28mself\u001b[39m\u001b[38;5;241m.\u001b[39m_engine \u001b[38;5;241m=\u001b[39m \u001b[38;5;28mself\u001b[39m\u001b[38;5;241m.\u001b[39m_make_engine(f, \u001b[38;5;28mself\u001b[39m\u001b[38;5;241m.\u001b[39mengine)\n",
      "File \u001b[0;32m~/anaconda3/lib/python3.11/site-packages/pandas/io/parsers/readers.py:1661\u001b[0m, in \u001b[0;36mTextFileReader._make_engine\u001b[0;34m(self, f, engine)\u001b[0m\n\u001b[1;32m   1659\u001b[0m     \u001b[38;5;28;01mif\u001b[39;00m \u001b[38;5;124m\"\u001b[39m\u001b[38;5;124mb\u001b[39m\u001b[38;5;124m\"\u001b[39m \u001b[38;5;129;01mnot\u001b[39;00m \u001b[38;5;129;01min\u001b[39;00m mode:\n\u001b[1;32m   1660\u001b[0m         mode \u001b[38;5;241m+\u001b[39m\u001b[38;5;241m=\u001b[39m \u001b[38;5;124m\"\u001b[39m\u001b[38;5;124mb\u001b[39m\u001b[38;5;124m\"\u001b[39m\n\u001b[0;32m-> 1661\u001b[0m \u001b[38;5;28mself\u001b[39m\u001b[38;5;241m.\u001b[39mhandles \u001b[38;5;241m=\u001b[39m get_handle(\n\u001b[1;32m   1662\u001b[0m     f,\n\u001b[1;32m   1663\u001b[0m     mode,\n\u001b[1;32m   1664\u001b[0m     encoding\u001b[38;5;241m=\u001b[39m\u001b[38;5;28mself\u001b[39m\u001b[38;5;241m.\u001b[39moptions\u001b[38;5;241m.\u001b[39mget(\u001b[38;5;124m\"\u001b[39m\u001b[38;5;124mencoding\u001b[39m\u001b[38;5;124m\"\u001b[39m, \u001b[38;5;28;01mNone\u001b[39;00m),\n\u001b[1;32m   1665\u001b[0m     compression\u001b[38;5;241m=\u001b[39m\u001b[38;5;28mself\u001b[39m\u001b[38;5;241m.\u001b[39moptions\u001b[38;5;241m.\u001b[39mget(\u001b[38;5;124m\"\u001b[39m\u001b[38;5;124mcompression\u001b[39m\u001b[38;5;124m\"\u001b[39m, \u001b[38;5;28;01mNone\u001b[39;00m),\n\u001b[1;32m   1666\u001b[0m     memory_map\u001b[38;5;241m=\u001b[39m\u001b[38;5;28mself\u001b[39m\u001b[38;5;241m.\u001b[39moptions\u001b[38;5;241m.\u001b[39mget(\u001b[38;5;124m\"\u001b[39m\u001b[38;5;124mmemory_map\u001b[39m\u001b[38;5;124m\"\u001b[39m, \u001b[38;5;28;01mFalse\u001b[39;00m),\n\u001b[1;32m   1667\u001b[0m     is_text\u001b[38;5;241m=\u001b[39mis_text,\n\u001b[1;32m   1668\u001b[0m     errors\u001b[38;5;241m=\u001b[39m\u001b[38;5;28mself\u001b[39m\u001b[38;5;241m.\u001b[39moptions\u001b[38;5;241m.\u001b[39mget(\u001b[38;5;124m\"\u001b[39m\u001b[38;5;124mencoding_errors\u001b[39m\u001b[38;5;124m\"\u001b[39m, \u001b[38;5;124m\"\u001b[39m\u001b[38;5;124mstrict\u001b[39m\u001b[38;5;124m\"\u001b[39m),\n\u001b[1;32m   1669\u001b[0m     storage_options\u001b[38;5;241m=\u001b[39m\u001b[38;5;28mself\u001b[39m\u001b[38;5;241m.\u001b[39moptions\u001b[38;5;241m.\u001b[39mget(\u001b[38;5;124m\"\u001b[39m\u001b[38;5;124mstorage_options\u001b[39m\u001b[38;5;124m\"\u001b[39m, \u001b[38;5;28;01mNone\u001b[39;00m),\n\u001b[1;32m   1670\u001b[0m )\n\u001b[1;32m   1671\u001b[0m \u001b[38;5;28;01massert\u001b[39;00m \u001b[38;5;28mself\u001b[39m\u001b[38;5;241m.\u001b[39mhandles \u001b[38;5;129;01mis\u001b[39;00m \u001b[38;5;129;01mnot\u001b[39;00m \u001b[38;5;28;01mNone\u001b[39;00m\n\u001b[1;32m   1672\u001b[0m f \u001b[38;5;241m=\u001b[39m \u001b[38;5;28mself\u001b[39m\u001b[38;5;241m.\u001b[39mhandles\u001b[38;5;241m.\u001b[39mhandle\n",
      "File \u001b[0;32m~/anaconda3/lib/python3.11/site-packages/pandas/io/common.py:859\u001b[0m, in \u001b[0;36mget_handle\u001b[0;34m(path_or_buf, mode, encoding, compression, memory_map, is_text, errors, storage_options)\u001b[0m\n\u001b[1;32m    854\u001b[0m \u001b[38;5;28;01melif\u001b[39;00m \u001b[38;5;28misinstance\u001b[39m(handle, \u001b[38;5;28mstr\u001b[39m):\n\u001b[1;32m    855\u001b[0m     \u001b[38;5;66;03m# Check whether the filename is to be opened in binary mode.\u001b[39;00m\n\u001b[1;32m    856\u001b[0m     \u001b[38;5;66;03m# Binary mode does not support 'encoding' and 'newline'.\u001b[39;00m\n\u001b[1;32m    857\u001b[0m     \u001b[38;5;28;01mif\u001b[39;00m ioargs\u001b[38;5;241m.\u001b[39mencoding \u001b[38;5;129;01mand\u001b[39;00m \u001b[38;5;124m\"\u001b[39m\u001b[38;5;124mb\u001b[39m\u001b[38;5;124m\"\u001b[39m \u001b[38;5;129;01mnot\u001b[39;00m \u001b[38;5;129;01min\u001b[39;00m ioargs\u001b[38;5;241m.\u001b[39mmode:\n\u001b[1;32m    858\u001b[0m         \u001b[38;5;66;03m# Encoding\u001b[39;00m\n\u001b[0;32m--> 859\u001b[0m         handle \u001b[38;5;241m=\u001b[39m \u001b[38;5;28mopen\u001b[39m(\n\u001b[1;32m    860\u001b[0m             handle,\n\u001b[1;32m    861\u001b[0m             ioargs\u001b[38;5;241m.\u001b[39mmode,\n\u001b[1;32m    862\u001b[0m             encoding\u001b[38;5;241m=\u001b[39mioargs\u001b[38;5;241m.\u001b[39mencoding,\n\u001b[1;32m    863\u001b[0m             errors\u001b[38;5;241m=\u001b[39merrors,\n\u001b[1;32m    864\u001b[0m             newline\u001b[38;5;241m=\u001b[39m\u001b[38;5;124m\"\u001b[39m\u001b[38;5;124m\"\u001b[39m,\n\u001b[1;32m    865\u001b[0m         )\n\u001b[1;32m    866\u001b[0m     \u001b[38;5;28;01melse\u001b[39;00m:\n\u001b[1;32m    867\u001b[0m         \u001b[38;5;66;03m# Binary mode\u001b[39;00m\n\u001b[1;32m    868\u001b[0m         handle \u001b[38;5;241m=\u001b[39m \u001b[38;5;28mopen\u001b[39m(handle, ioargs\u001b[38;5;241m.\u001b[39mmode)\n",
      "\u001b[0;31mFileNotFoundError\u001b[0m: [Errno 2] No such file or directory: 'covid-cases.csv'"
     ]
    }
   ],
   "source": [
    "import pandas as pd\n",
    "import altair as alt\n",
    "\n",
    "election_data = pd.read_csv('us_election_2020.csv')\n",
    "covid_data = pd.read_csv('covid-cases.csv')\n",
    "\n",
    "# Convert the date column to datetime format\n",
    "covid_data['date'] = pd.to_datetime(covid_data['date'], format='%m/%d/%Y')\n",
    "\n",
    "# Filter data for years 2021-2023, remove California data, and add a year-month column\n",
    "covid_data_filtered = covid_data[(covid_data['date'].dt.year >= 2021) & (covid_data['date'].dt.year <= 2023)]\n",
    "covid_data_filtered = covid_data_filtered[covid_data_filtered['state'] != 'CA']\n",
    "covid_data_filtered = covid_data_filtered.copy()  # Avoid SettingWithCopyWarning\n",
    "covid_data_filtered['year_month'] = covid_data_filtered['date'].dt.to_period('M').dt.to_timestamp()\n",
    "\n",
    "# Drop duplicate counties to make sure each county is counted only once per month\n",
    "covid_data_filtered_unique = covid_data_filtered.drop_duplicates(subset=['state', 'county', 'year_month'])\n",
    "\n",
    "# Aggregate the COVID data by year-month and state to get new deaths for unique counties only\n",
    "covid_deaths_by_state_month = covid_data_filtered_unique.groupby(['state', 'year_month']).agg({'New deaths': 'sum'}).reset_index()\n",
    "\n",
    "# Merge with election data on state\n",
    "merged_data_monthly = pd.merge(covid_deaths_by_state_month, election_data, left_on='state', right_on='state_abr')\n",
    "\n",
    "# Drop unnecessary columns based on the columns actually present in merged_data_monthly\n",
    "merged_data_monthly = merged_data_monthly[['state_abr', 'year_month', 'New deaths', 'trump_pct', 'biden_pct', 'trump_win', 'biden_win']]\n",
    "merged_data_monthly = merged_data_monthly.rename(columns={'state_abr': 'state', 'New deaths': 'new_deaths'})\n",
    "\n",
    "# Create a selection for user interaction\n",
    "selection = alt.selection_multi(fields=['trump_win'], bind='legend')\n",
    "\n",
    "# Create a scatter plot using Altair with interactive filtering and a customized legend\n",
    "scatter_plot_monthly = alt.Chart(merged_data_monthly).mark_circle(size=60).encode(\n",
    "    x=alt.X('year_month:T', title='Year-Month'),\n",
    "    y=alt.Y('new_deaths:Q', title='New COVID-19 Deaths', scale=alt.Scale(domain=[0, 2500])),\n",
    "    color=alt.Color('trump_win:N', scale=alt.Scale(domain=[1, 0], range=['red', 'blue']), title='Election Winner', legend=alt.Legend(\n",
    "        title=\"Election Winner\", labelExpr=\"datum.label == '1' ? 'Trump (Red)' : 'Biden (Blue)'\")),\n",
    "    opacity=alt.condition(selection, alt.value(1), alt.value(0.2)),\n",
    "    tooltip=['state:N', 'year_month:T', 'new_deaths:Q', 'trump_pct:Q', 'biden_pct:Q']\n",
    ").properties(\n",
    "    width=800,\n",
    "    height=400\n",
    ").add_selection(\n",
    "    selection\n",
    ")\n",
    "\n",
    "# Create line plots for Trump and Biden wins with interactive filtering\n",
    "line_trump = alt.Chart(merged_data_monthly[merged_data_monthly['trump_win'] == 1]).mark_line(color='red', size=3).encode(\n",
    "    x=alt.X('year_month:T', title='Year-Month'),\n",
    "    y=alt.Y('mean(new_deaths):Q', title='New COVID-19 Deaths', scale=alt.Scale(domain=[0, 2500])),\n",
    "    opacity=alt.condition(selection, alt.value(1), alt.value(0.2))\n",
    ")\n",
    "\n",
    "line_biden = alt.Chart(merged_data_monthly[merged_data_monthly['biden_win'] == 1]).mark_line(color='blue', size=3).encode(\n",
    "    x=alt.X('year_month:T', title='Year-Month'),\n",
    "    y=alt.Y('mean(new_deaths):Q', title='New COVID-19 Deaths', scale=alt.Scale(domain=[0, 2500])),\n",
    "    opacity=alt.condition(selection, alt.value(1), alt.value(0.2))\n",
    ")\n",
    "\n",
    "# Layer the lines and scatter plot together\n",
    "layered_chart = (scatter_plot_monthly + line_trump + line_biden).properties(\n",
    "    title='New COVID-19 Deaths by State (Monthly, 2021-2023)'\n",
    ")\n",
    "\n",
    "# Display the layered chart\n",
    "layered_chart\n"
   ]
  },
  {
   "cell_type": "code",
   "execution_count": null,
   "metadata": {
    "colab": {
     "base_uri": "https://localhost:8080/",
     "height": 559
    },
    "id": "wb374zGiIF22",
    "outputId": "90d23898-339a-40d4-97c9-77c3f6c8efd4"
   },
   "outputs": [],
   "source": [
    "\n",
    "election_data = pd.read_csv('/content/us_election_2020.csv')\n",
    "covid_data = pd.read_csv('/content/Provisional_COVID-19_Deaths_by_County__and_Race_and_Hispanic_Origin_20241120.csv')\n",
    "\n",
    "# Convert the date column to datetime format (assuming 'Data as of' column exists)\n",
    "covid_data['Data as of'] = pd.to_datetime(covid_data['Data as of'], format='%m/%d/%Y')\n",
    "\n",
    "# Extract cumulative COVID-19 deaths for the latest available date for each state\n",
    "latest_date = covid_data['Data as of'].max()\n",
    "covid_latest = covid_data[covid_data['Data as of'] == latest_date]\n",
    "\n",
    "# Aggregate COVID deaths by state\n",
    "covid_deaths_by_state = covid_latest.groupby('State')['COVID-19 Deaths'].sum().reset_index()\n",
    "\n",
    "# Merge with election data on state\n",
    "merged_data = pd.merge(covid_deaths_by_state, election_data, left_on='State', right_on='state_abr')\n",
    "\n",
    "# Keep necessary columns and rename for clarity\n",
    "merged_data = merged_data[['state_abr', 'COVID-19 Deaths', 'trump_win', 'biden_win']]\n",
    "merged_data = merged_data.rename(columns={'state_abr': 'state', 'COVID-19 Deaths': 'cumulative_deaths'})\n",
    "\n",
    "# Create boxplot and add individual points on top for better visibility\n",
    "boxplot = alt.Chart(merged_data).mark_boxplot(size=60).encode(\n",
    "    x=alt.X('trump_win:N', title='Election Winner', axis=alt.Axis(labels=True, labelExpr=\"datum.value == 1 ? 'Trump' : 'Biden'\")),\n",
    "    y=alt.Y('cumulative_deaths:Q', title='Cumulative COVID-19 Deaths'),\n",
    "    color=alt.Color('trump_win:N', scale=alt.Scale(domain=[1, 0], range=['red', 'blue']), title='Election Winner', legend=alt.Legend(\n",
    "        title=\"Election Winner\", labelExpr=\"datum.label == '1' ? 'Trump (Red)' : 'Biden (Blue)'\"))\n",
    ").properties(\n",
    "    width=400,\n",
    "    height=400\n",
    ")\n",
    "\n",
    "# Add individual points for each state with hover capabilities\n",
    "points = alt.Chart(merged_data).mark_circle(size=80, opacity=0.6).encode(\n",
    "    x=alt.X('trump_win:N'),\n",
    "    y=alt.Y('cumulative_deaths:Q'),\n",
    "    color=alt.Color('trump_win:N', scale=alt.Scale(domain=[1, 0], range=['red', 'blue'])),\n",
    "    tooltip=['state:N', 'cumulative_deaths:Q']\n",
    ")\n",
    "\n",
    "# Layer the boxplot and points together\n",
    "final_chart = (boxplot + points).properties(\n",
    "    title='Cumulative COVID-19 Deaths by Election Winner (Trump vs. Biden)'\n",
    ")\n",
    "\n",
    "# Display the final chart\n",
    "final_chart\n",
    "\n",
    "\n"
   ]
  },
  {
   "cell_type": "code",
   "execution_count": null,
   "metadata": {},
   "outputs": [],
   "source": []
  }
 ],
 "metadata": {
  "colab": {
   "provenance": []
  },
  "kernelspec": {
   "display_name": "Python 3 (ipykernel)",
   "language": "python",
   "name": "python3"
  },
  "language_info": {
   "codemirror_mode": {
    "name": "ipython",
    "version": 3
   },
   "file_extension": ".py",
   "mimetype": "text/x-python",
   "name": "python",
   "nbconvert_exporter": "python",
   "pygments_lexer": "ipython3",
   "version": "3.11.5"
  }
 },
 "nbformat": 4,
 "nbformat_minor": 1
}
